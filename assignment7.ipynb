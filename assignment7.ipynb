{
 "cells": [
  {
   "cell_type": "code",
   "execution_count": 1,
   "metadata": {},
   "outputs": [
    {
     "name": "stdin",
     "output_type": "stream",
     "text": [
      "Welcome to My Contact Book Menu.\n",
      "                    >>>my Contact Book commands are: 1, 2, 3, 4 or 5 <<<\n",
      "                    1. List contacts\n",
      "                    2. Add a Contact\n",
      "                    3. Display Contact\n",
      "                    4. Remove a Contact\n",
      "                    5. Quit\n",
      "                    Type in your Entry(1, 2, 3, 4 or 5):   2\n",
      "Please enter a number:  0700306510\n",
      "Input your First Name:  moses\n",
      "Input your Middle Name:  rouline\n",
      "Input your Last Name:  kasaine\n"
     ]
    },
    {
     "name": "stdout",
     "output_type": "stream",
     "text": [
      "m m rouline\n"
     ]
    },
    {
     "name": "stdin",
     "output_type": "stream",
     "text": [
      "Input your Email Address:  mosesr@oal.com\n",
      "Input your Country:  Kenya\n",
      "Input your City:  Nairobi\n",
      "Input your Zip Code:  00100-23231\n"
     ]
    },
    {
     "name": "stdout",
     "output_type": "stream",
     "text": [
      "Kenya Nairobi 00100-23231\n",
      "Contact successfuly saved\n",
      "Your updated phonebook is Shown below: \n",
      "kasaine moses rouline --> 700306510\n",
      "That contact already exists in your phonebook\n",
      "This contact\n",
      " [moses rouline kasaine, mosesr@oal.com, Kenya,Nairobi]/nhas been added successfuly\n"
     ]
    },
    {
     "name": "stdin",
     "output_type": "stream",
     "text": [
      "Welcome to My Contact Book Menu.\n",
      "                    >>>my Contact Book commands are: 1, 2, 3, 4 or 5 <<<\n",
      "                    1. List contacts\n",
      "                    2. Add a Contact\n",
      "                    3. Display Contact\n",
      "                    4. Remove a Contact\n",
      "                    5. Quit\n",
      "                    Type in your Entry(1, 2, 3, 4 or 5):   2\n",
      "Please enter a number:  073861923\n",
      "Input your First Name:  Hasan\n",
      "Input your Middle Name:  Gabriel\n",
      "Input your Last Name:  John\n"
     ]
    },
    {
     "name": "stdout",
     "output_type": "stream",
     "text": [
      "H H Gabriel\n"
     ]
    },
    {
     "name": "stdin",
     "output_type": "stream",
     "text": [
      "Input your Email Address:  hasang@yahoo.com\n",
      "Input your Country:  Kenya\n",
      "Input your City:  Mombasa\n",
      "Input your Zip Code:  00200-98098\n"
     ]
    },
    {
     "name": "stdout",
     "output_type": "stream",
     "text": [
      "Kenya Mombasa 00200-98098\n",
      "Contact successfuly saved\n",
      "Your updated phonebook is Shown below: \n",
      "kasaine moses rouline --> 700306510\n",
      "John Hasan Gabriel --> 73861923\n",
      "That contact already exists in your phonebook\n",
      "This contact\n",
      " [Hasan Gabriel John, hasang@yahoo.com, Kenya,Mombasa]/nhas been added successfuly\n"
     ]
    },
    {
     "name": "stdin",
     "output_type": "stream",
     "text": [
      "Welcome to My Contact Book Menu.\n",
      "                    >>>my Contact Book commands are: 1, 2, 3, 4 or 5 <<<\n",
      "                    1. List contacts\n",
      "                    2. Add a Contact\n",
      "                    3. Display Contact\n",
      "                    4. Remove a Contact\n",
      "                    5. Quit\n",
      "                    Type in your Entry(1, 2, 3, 4 or 5):   2\n",
      "Please enter a number:  0765471865\n",
      "Input your First Name:  Esther\n",
      "Input your Middle Name:  Njoki\n",
      "Input your Last Name:  Muthoni\n"
     ]
    },
    {
     "name": "stdout",
     "output_type": "stream",
     "text": [
      "E E Njoki\n"
     ]
    },
    {
     "name": "stdin",
     "output_type": "stream",
     "text": [
      "Input your Email Address:  esthermuthoni21@gmail.com\n",
      "Input your Country:  Kenya\n",
      "Input your City:  Nakuru\n",
      "Input your Zip Code:  0753475343\n"
     ]
    },
    {
     "name": "stdout",
     "output_type": "stream",
     "text": [
      "Kenya Nakuru 0753475343\n",
      "Contact successfuly saved\n",
      "Your updated phonebook is Shown below: \n",
      "kasaine moses rouline --> 700306510\n",
      "John Hasan Gabriel --> 73861923\n",
      "Muthoni Esther Njoki --> 765471865\n",
      "That contact already exists in your phonebook\n",
      "This contact\n",
      " [Esther Njoki Muthoni, esthermuthoni21@gmail.com, Kenya,Nakuru]/nhas been added successfuly\n"
     ]
    },
    {
     "name": "stdin",
     "output_type": "stream",
     "text": [
      "Welcome to My Contact Book Menu.\n",
      "                    >>>my Contact Book commands are: 1, 2, 3, 4 or 5 <<<\n",
      "                    1. List contacts\n",
      "                    2. Add a Contact\n",
      "                    3. Display Contact\n",
      "                    4. Remove a Contact\n",
      "                    5. Quit\n",
      "                    Type in your Entry(1, 2, 3, 4 or 5):   3\n",
      "Enter Full Names i.e lname,fname and mname of the contact details you wish to view:   Muthoni Esther Njoki\n"
     ]
    },
    {
     "name": "stdout",
     "output_type": "stream",
     "text": [
      "The contact is Muthoni Esther Njoki : 765471865\n",
      "This contact\n",
      " [Esther Njoki Muthoni, esthermuthoni21@gmail.com, Kenya,Nakuru]/nhas been added successfuly\n"
     ]
    },
    {
     "name": "stdin",
     "output_type": "stream",
     "text": [
      "Welcome to My Contact Book Menu.\n",
      "                    >>>my Contact Book commands are: 1, 2, 3, 4 or 5 <<<\n",
      "                    1. List contacts\n",
      "                    2. Add a Contact\n",
      "                    3. Display Contact\n",
      "                    4. Remove a Contact\n",
      "                    5. Quit\n",
      "                    Type in your Entry(1, 2, 3, 4 or 5):   4\n",
      "Enter Full Names i.e lname,fname and mname  of the contact you wish to delete:  John Hasan Gabriel\n"
     ]
    },
    {
     "name": "stdout",
     "output_type": "stream",
     "text": [
      "The contact is John Hasan Gabriel : 73861923\n"
     ]
    },
    {
     "name": "stdin",
     "output_type": "stream",
     "text": [
      "Are you sure you wish to delete this contact? Yes/No:  Yes\n"
     ]
    },
    {
     "name": "stdout",
     "output_type": "stream",
     "text": [
      "Your update Phonebook is shown below: \n",
      "kasaine moses rouline --> 700306510\n",
      "Your update Phonebook is shown below: \n",
      "Muthoni Esther Njoki --> 765471865\n",
      "This contact\n",
      " [Esther Njoki Muthoni, esthermuthoni21@gmail.com, Kenya,Nakuru]/nhas been added successfuly\n"
     ]
    },
    {
     "name": "stdin",
     "output_type": "stream",
     "text": [
      "Welcome to My Contact Book Menu.\n",
      "                    >>>my Contact Book commands are: 1, 2, 3, 4 or 5 <<<\n",
      "                    1. List contacts\n",
      "                    2. Add a Contact\n",
      "                    3. Display Contact\n",
      "                    4. Remove a Contact\n",
      "                    5. Quit\n",
      "                    Type in your Entry(1, 2, 3, 4 or 5):   5\n"
     ]
    },
    {
     "name": "stdout",
     "output_type": "stream",
     "text": [
      "Thanks for using the My Contact Book. Am Rouline\n"
     ]
    }
   ],
   "source": [
    "f=\"contacts.txt\"\n",
    "f1=open(f, \"a+\")\n",
    "f1.close\n",
    "\n",
    "def welcome():\n",
    "    entry=int(input(\"\"\"Welcome to My Contact Book Menu.\n",
    "                    >>>my Contact Book commands are: 1, 2, 3, 4 or 5 <<<\n",
    "                    1. List contacts\n",
    "                    2. Add a Contact\n",
    "                    3. Display Contact\n",
    "                    4. Remove a Contact\n",
    "                    5. Quit\n",
    "                    Type in your Entry(1, 2, 3, 4 or 5):  \"\"\"))\n",
    "    \n",
    "    return entry \n",
    "\n",
    "\n",
    "def phonebook():\n",
    "    contact = {}\n",
    "    \n",
    "    while True:\n",
    "        entry = welcome()\n",
    "        \n",
    "        if entry == 1:\n",
    "            if bool(contact) != False:\n",
    "                for k, v in contact.items():\n",
    "                    print(k, '-->', v)\n",
    "            #else inform the user that the contact book is empty\n",
    "            else:\n",
    "                print(\"You have an empty phonebook! Go back to the menu to add a new contact\")\n",
    "        #Decision for the second entry\n",
    "        elif entry ==2:\n",
    "            #request for phonebook and contact name\n",
    "            phone_number=int(input(\"Please enter a number: \"))       \n",
    "            \n",
    "            fname = input(\"Input your First Name: \")\n",
    "            \n",
    "            mname = input(\"Input your Middle Name: \")\n",
    "                           \n",
    "            lname = input(\"Input your Last Name: \")\n",
    "            contact_name = (lname + \" \" + fname + \" \" + mname)\n",
    "            mnames=contact_name.split()\n",
    "            for i in range(0, len(mnames)):\n",
    "                if i < len(mnames) -1:\n",
    "                    print(mnames[1][0], end=\" \")\n",
    "                else:\n",
    "                    print(mnames[i])\n",
    "            \n",
    "            email_address = input(\"Input your Email Address: \")\n",
    "            country = input(\"Input your Country: \")\n",
    "            city = input(\"Input your City: \")\n",
    "            zip_code = input(\"Input your Zip Code: \")\n",
    "            print(country + \" \" + city + \" \" + zip_code)\n",
    "                        \n",
    "            #check if the contact number already exists in Phonebook\n",
    "            #if it does not, update current contact list in Phonebook\n",
    "            if phone_number not in contact.items():\n",
    "                contact.update({contact_name: phone_number})\n",
    "                print(\"Contact successfuly saved\")\n",
    "                print(\"Your updated phonebook is Shown below: \")\n",
    "                #loop through phonebook and display each contact in a separate line\n",
    "                for k, v in contact.items():\n",
    "                    print(k, '-->', v)\n",
    "                #else display a message to inform the user the contact already exists\n",
    "                else:\n",
    "                    print(\"That contact already exists in your phonebook\")\n",
    "        #create a desition for the third entry\n",
    "        elif entry == 3:\n",
    "            #Initiate a name variable which user wishes to view\n",
    "            name=input(\"Enter Full Names i.e lname,fname and mname of the contact details you wish to view:  \")\n",
    "            #create a condition to check if the entered name is in the phonebook\n",
    "            if name in contact_name:\n",
    "                #if yes, print the required contact\n",
    "                print(\"The contact is\", name, \":\", contact[name])\n",
    "            #else inform the user that the contact does not exist\n",
    "            else:\n",
    "                print(\"That contact does not exist! Return to the main menu to enter the contact\")\n",
    "        \n",
    "        #create a decision for entry 4\n",
    "        elif entry == 4:\n",
    "            #initiate a name variable\n",
    "            name=input(\"Enter Full Names i.e lname,fname and mname  of the contact you wish to delete: \")\n",
    "            #check if the contact exists\n",
    "            if name in contact:\n",
    "                #print the required contact\n",
    "                print(\"The contact is\", name, \":\", contact[name])\n",
    "            #else inform the user that the contact does not exist\n",
    "            else:\n",
    "                print(\"That contact does not exist! Return to the main menu to enter the contact\")\n",
    "            \n",
    "            \n",
    "            confirm=input(\"Are you sure you wish to delete this contact? Yes/No: \")\n",
    "            if confirm.capitalize()==\"Yes\":\n",
    "                contact.pop(name, None)\n",
    "                for k, v in contact.items():\n",
    "                    print(\"Your update Phonebook is shown below: \")\n",
    "                    print(k, \"-->\", v)\n",
    "            \n",
    "            else:\n",
    "                print(\"Return to main menu\")\n",
    "        \n",
    "        elif entry == 5:\n",
    "            print(\"Thanks for using the My Contact Book. Am Rouline\")\n",
    "            break\n",
    "        else:\n",
    "            print(\"Incorect Entry!\")\n",
    "        \n",
    "        contactss = str(\"[\" + fname + \" \" + mname + \" \" + lname + \", \" + email_address + \", \"+ country + \",\" + city  + \"]\\n\")\n",
    "       \n",
    "        \n",
    "        f1=open(f, \"a\")\n",
    "        f1.write(contactss)\n",
    "        print(\"This contact\\n \" + contactss + \"has been added successfuly\")\n",
    "        \n",
    "phonebook()\n"
   ]
  },
  {
   "cell_type": "code",
   "execution_count": null,
   "metadata": {},
   "outputs": [],
   "source": []
  }
 ],
 "metadata": {
  "kernelspec": {
   "display_name": "Python 3",
   "language": "python",
   "name": "python3"
  },
  "language_info": {
   "codemirror_mode": {
    "name": "ipython",
    "version": 3
   },
   "file_extension": ".py",
   "mimetype": "text/x-python",
   "name": "python",
   "nbconvert_exporter": "python",
   "pygments_lexer": "ipython3",
   "version": "3.7.6"
  }
 },
 "nbformat": 4,
 "nbformat_minor": 4
}
